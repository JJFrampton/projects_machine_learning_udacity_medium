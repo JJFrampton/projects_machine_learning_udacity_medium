{
 "cells": [
  {
   "cell_type": "code",
   "execution_count": null,
   "metadata": {},
   "outputs": [],
   "source": [
    "def expandMultiChoiceCategory(dataframe, column, separator, concat=True):\n",
    "    \"\"\"---\n",
    "    \n",
    "    Expand Multiple Choice Categorical Variables\n",
    "    \n",
    "    Usage:\n",
    "        Used to expand a categorical column that may contain multiple answers\n",
    "        ie\n",
    "        |favorite juice|   convert    |apple |orange |pear |\n",
    "        |apple,orange  |     ===>     |1     |1      |0    |\n",
    "        |pear,apple    |              |1     |0      |1    |\n",
    "    \n",
    "    Args:\n",
    "        dataframe: pandas.DataFrame\n",
    "            - the target dataframe\n",
    "        column: string\n",
    "            - the column to expand\n",
    "        separator: string\n",
    "            - the char(s) to split the string on\n",
    "            ie ',' or ';'\n",
    "        concat: bool\n",
    "            - if true returns the concatinated frame\n",
    "            - if false returns the series\n",
    "            \n",
    "    See:\n",
    "        https://stackoverflow.com/questions/37600711/pandas-split-column-into-multiple-columns-by-comma\n",
    "        pd.concat([df[[0]], df[1].str.split(', ', expand=True)], axis=1)\n",
    "    \"\"\"\n",
    "    # new_df = pd.concat([df.drop('DevEnviron', 1), df['DevEnviron'].str.get_dummies(sep=\";\")], 1)\n",
    "    dummies = dataframe[column].str.get_dummies(sep=\";\")\n",
    "    print(\"Expanded %s to %s boolean features\" %(column, dummies.shape[1]))\n",
    "    print(dummies.columns)\n",
    "    print(dummies.head())\n",
    "    if concat == False:\n",
    "        return dummies\n",
    "    else:\n",
    "        return pd.concat([df.drop(column, axis=1), dummies], axis=1)"
   ]
  }
 ],
 "metadata": {
  "kernelspec": {
   "display_name": "Python 3",
   "language": "python",
   "name": "python3"
  },
  "language_info": {
   "codemirror_mode": {
    "name": "ipython",
    "version": 3
   },
   "file_extension": ".py",
   "mimetype": "text/x-python",
   "name": "python",
   "nbconvert_exporter": "python",
   "pygments_lexer": "ipython3",
   "version": "3.8.3"
  }
 },
 "nbformat": 4,
 "nbformat_minor": 4
}
